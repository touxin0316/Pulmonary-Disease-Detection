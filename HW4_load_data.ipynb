{
 "cells": [
  {
   "cell_type": "code",
   "execution_count": null,
   "id": "thermal-amateur",
   "metadata": {
    "id": "protective-candidate"
   },
   "outputs": [],
   "source": [
    "import numpy as np\n",
    "import pandas as pd\n",
    "from PIL import Image"
   ]
  },
  {
   "cell_type": "code",
   "execution_count": null,
   "id": "appreciated-penetration",
   "metadata": {
    "colab": {
     "base_uri": "https://localhost:8080/"
    },
    "id": "LZw12mq4iafX",
    "outputId": "1c9e22c5-f419-449a-c1e7-99d0e835ccea"
   },
   "outputs": [
    {
     "name": "stdout",
     "output_type": "stream",
     "text": [
      "Mounted at /content/drive\n"
     ]
    }
   ],
   "source": [
    "from google.colab import drive\n",
    "drive.mount('/content/drive')"
   ]
  },
  {
   "cell_type": "code",
   "execution_count": null,
   "id": "accepted-italic",
   "metadata": {
    "id": "8BzO9-1BiX2Q"
   },
   "outputs": [],
   "source": [
    "!unzip # FILE PATH"
   ]
  },
  {
   "cell_type": "code",
   "execution_count": null,
   "id": "healthy-filing",
   "metadata": {
    "id": "absent-sauce"
   },
   "outputs": [],
   "source": [
    "X_train = []\n",
    "for i in range(10000):\n",
    "    X_train.append(np.asarray(Image.open(\"HW4_data/public/train_{i}.jpg\".format(i=i))))\n",
    "    \n",
    "df_train = pd.read_csv(\"HW4_data/public/train_label.csv\", index_col=0)"
   ]
  },
  {
   "cell_type": "code",
   "execution_count": null,
   "id": "protective-logan",
   "metadata": {
    "id": "private-conflict"
   },
   "outputs": [],
   "source": [
    "X_val = []\n",
    "for i in range(1000):\n",
    "    X_val.append(np.asarray(Image.open(\"HW4_data/public/val_{i}.jpg\".format(i=i))))\n",
    "    \n",
    "df_val = pd.read_csv(\"HW4_data/public/val_label.csv\", index_col=0)"
   ]
  },
  {
   "cell_type": "code",
   "execution_count": null,
   "id": "killing-final",
   "metadata": {
    "id": "corrected-genius"
   },
   "outputs": [],
   "source": [
    "X_test = []\n",
    "for i in range(1500):\n",
    "    X_test.append(np.asarray(Image.open(\"HW4_data/private/test_{i}.jpg\".format(i=i))))\n",
    "\n",
    "df_test_demo = pd.read_csv(\"HW4_data/private/test_demo.csv\", index_col=0)"
   ]
  }
 ],
 "metadata": {
  "colab": {
   "collapsed_sections": [],
   "name": "HW4_load_data.ipynb",
   "provenance": []
  },
  "kernelspec": {
   "display_name": "Python 3",
   "language": "python",
   "name": "python3"
  },
  "language_info": {
   "codemirror_mode": {
    "name": "ipython",
    "version": 3
   },
   "file_extension": ".py",
   "mimetype": "text/x-python",
   "name": "python",
   "nbconvert_exporter": "python",
   "pygments_lexer": "ipython3",
   "version": "3.7.10"
  }
 },
 "nbformat": 4,
 "nbformat_minor": 5
}
